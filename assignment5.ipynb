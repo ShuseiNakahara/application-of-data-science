{
 "cells": [
  {
   "cell_type": "markdown",
   "metadata": {},
   "source": [
    "# 演習課題5回目\n",
    "\n",
    "11月24日(金)\n",
    "\n",
    "csvファイル (data_for_regression.csv) のデータを回帰することを考える．\n",
    "最初の50個を訓練データ，残りをテストデータとして3次多項式で回帰を行い，係数と切片，決定係数(訓練とテストの両方)を出力せよ．\n",
    "さらに，データの散布図と予測曲線を描画せよ．"
   ]
  },
  {
   "cell_type": "markdown",
   "metadata": {},
   "source": [
    "## セットアップ"
   ]
  },
  {
   "cell_type": "code",
   "execution_count": 1,
   "metadata": {},
   "outputs": [],
   "source": [
    "# Pythonが実行時のバージョンを満たしているか確認する\n",
    "import sys\n",
    "assert sys.version_info >= (3, 9, 7)\n",
    "\n",
    "# 必要なモジュールのインポート\n",
    "from pathlib import Path\n",
    "import matplotlib.pyplot as plt\n",
    "import numpy as np\n",
    "import pandas as pd\n",
    "import sklearn\n",
    "\n",
    "# サードパーティ製ライブラリが実行時のバージョンを満たしているか確認する\n",
    "assert np.__version__ >= '1.20.3'\n",
    "assert pd.__version__ >= '1.3'\n",
    "assert sklearn.__version__ >= '0.24'\n",
    "\n",
    "# データの保存場所の定義\n",
    "DATA_ROOT_PATH = Path('data', '7')\n",
    "\n",
    "# matplotlib の日本語対応\n",
    "plt.rcParams['font.family'] = \"MS Gothic\"\n"
   ]
  },
  {
   "cell_type": "markdown",
   "metadata": {},
   "source": [
    "## データの取得"
   ]
  },
  {
   "cell_type": "code",
   "execution_count": 2,
   "metadata": {},
   "outputs": [
    {
     "data": {
      "text/plain": [
       "array([[ -0.43 ,  -6.68 ],\n",
       "       [  0.805,  -2.52 ],\n",
       "       [ -1.67 , -39.9  ],\n",
       "       [  1.74 ,  26.8  ],\n",
       "       [  1.2  ,  10.2  ]])"
      ]
     },
     "execution_count": 2,
     "metadata": {},
     "output_type": "execute_result"
    }
   ],
   "source": [
    "data = pd.read_csv(DATA_ROOT_PATH / 'data_for_regression.csv').to_numpy()\n",
    "data[:5]\n"
   ]
  },
  {
   "cell_type": "code",
   "execution_count": 3,
   "metadata": {},
   "outputs": [],
   "source": [
    "# データを訓練セットとテストセットに分割\n",
    "data_train, data_test = data[:50], data[50:]\n",
    "X_train, y_train = data_train[:, 0].reshape(-1, 1), data_train[:, 1]\n",
    "X_test, y_test = data_test[:, 0].reshape(-1, 1), data_test[:, 1]\n"
   ]
  },
  {
   "cell_type": "markdown",
   "metadata": {},
   "source": [
    "## 多項式回帰の実装"
   ]
  },
  {
   "cell_type": "code",
   "execution_count": 4,
   "metadata": {},
   "outputs": [
    {
     "data": {
      "text/plain": [
       "array([[-0.43 ],\n",
       "       [ 0.805],\n",
       "       [-1.67 ],\n",
       "       [ 1.74 ],\n",
       "       [ 1.2  ]])"
      ]
     },
     "execution_count": 4,
     "metadata": {},
     "output_type": "execute_result"
    }
   ],
   "source": [
    "X_train[:5]\n"
   ]
  },
  {
   "cell_type": "code",
   "execution_count": 5,
   "metadata": {},
   "outputs": [
    {
     "data": {
      "text/plain": [
       "array([[ 1.        , -0.43      ,  0.1849    , -0.079507  ],\n",
       "       [ 1.        ,  0.805     ,  0.648025  ,  0.52166013],\n",
       "       [ 1.        , -1.67      ,  2.7889    , -4.657463  ],\n",
       "       [ 1.        ,  1.74      ,  3.0276    ,  5.268024  ],\n",
       "       [ 1.        ,  1.2       ,  1.44      ,  1.728     ]])"
      ]
     },
     "execution_count": 5,
     "metadata": {},
     "output_type": "execute_result"
    }
   ],
   "source": [
    "# 3次までの新特徴量を追加\n",
    "from sklearn.preprocessing import PolynomialFeatures\n",
    "poly_features = PolynomialFeatures(degree=3)\n",
    "X_train_poly = poly_features.fit_transform(X_train)\n",
    "X_train_poly[:5]\n"
   ]
  },
  {
   "cell_type": "code",
   "execution_count": 6,
   "metadata": {},
   "outputs": [
    {
     "data": {
      "text/plain": [
       "LinearRegression()"
      ]
     },
     "execution_count": 6,
     "metadata": {},
     "output_type": "execute_result"
    }
   ],
   "source": [
    "from sklearn.linear_model import LinearRegression\n",
    "lin_reg = LinearRegression()\n",
    "lin_reg.fit(X_train_poly, y_train)\n"
   ]
  },
  {
   "cell_type": "markdown",
   "metadata": {},
   "source": [
    "訓練データによるモデルの係数と切片は次のようにして求まる"
   ]
  },
  {
   "cell_type": "code",
   "execution_count": 7,
   "metadata": {},
   "outputs": [
    {
     "name": "stdout",
     "output_type": "stream",
     "text": [
      "係数: [ 0.          6.29180878 -2.1012491   4.06420399]\n",
      "切片: -1.6511903888721\n"
     ]
    }
   ],
   "source": [
    "print(f\"係数: {lin_reg.coef_}\")\n",
    "print(f\"切片: {lin_reg.intercept_}\")\n"
   ]
  },
  {
   "cell_type": "markdown",
   "metadata": {},
   "source": [
    "訓練データの決定係数とテストデータの決定係数は，それぞれ次のようにして求まる．"
   ]
  },
  {
   "cell_type": "code",
   "execution_count": 8,
   "metadata": {},
   "outputs": [
    {
     "name": "stdout",
     "output_type": "stream",
     "text": [
      "訓練データの決定係数: 0.9473122128594194\n",
      "テストデータの決定係数: 0.9254636935697027\n"
     ]
    }
   ],
   "source": [
    "X_test_poly = poly_features.fit_transform(X_test)\n",
    "\n",
    "r2_train = lin_reg.score(X_train_poly, y_train)\n",
    "r2_test = lin_reg.score(X_test_poly, y_test)\n",
    "print(f\"訓練データの決定係数: {r2_train}\")\n",
    "print(f\"テストデータの決定係数: {r2_test}\")\n"
   ]
  },
  {
   "cell_type": "markdown",
   "metadata": {},
   "source": [
    "## データの散布図と予測曲線"
   ]
  },
  {
   "cell_type": "code",
   "execution_count": 10,
   "metadata": {},
   "outputs": [
    {
     "data": {
      "image/png": "[encoded data removed]",
      "text/plain": [
       "<Figure size 648x432 with 1 Axes>"
      ]
     },
     "metadata": {
      "needs_background": "light"
     },
     "output_type": "display_data"
    }
   ],
   "source": [
    "# 線形モデルによる予測値を格納\n",
    "y_pred = lin_reg.predict(X_test_poly)\n",
    "\n",
    "# データと予測曲線をプロット\n",
    "fig, ax = plt.subplots(figsize=(9, 6))\n",
    "curve_clr = 'r'\n",
    "ax.scatter(X_test, y_test)\n",
    "ax.plot(np.sort(X_test, axis=0), np.sort(y_pred), c=curve_clr)\n",
    "ax.grid(True)\n",
    "ax.set_xlabel('Input')\n",
    "ax.set_ylabel('Output')\n",
    "ax.text(-1.5, -40, r\"$y = -1.7 + 6.3x - 2.1x^2 + 4.1x^3$\", c=curve_clr)\n",
    "plt.show()\n"
   ]
  }
 ],
 "metadata": {
  "kernelspec": {
   "display_name": "base",
   "language": "python",
   "name": "python3"
  },
  "language_info": {
   "codemirror_mode": {
    "name": "ipython",
    "version": 3
   },
   "file_extension": ".py",
   "mimetype": "text/x-python",
   "name": "python",
   "nbconvert_exporter": "python",
   "pygments_lexer": "ipython3",
   "version": "3.9.7"
  }
 },
 "nbformat": 4,
 "nbformat_minor": 2
}
