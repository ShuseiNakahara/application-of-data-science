{
 "cells": [
  {
   "cell_type": "markdown",
   "metadata": {},
   "source": [
    "# 演習課題6回目\n",
    "\n",
    "12月1日(金)\n",
    "\n",
    "csvファイル(data_cv.csv)のデータを9次多項式でRidge回帰することを考える．\n",
    "$\\alpha$の値を$10^{-2}, 10^{-1}, 10^{0}, 10^{1}, 10^{2}$と変えたときのk-分割交差検証における訓練データとテストデータの評価の推移を横軸を$\\alpha$の対数スケールとして示せ．"
   ]
  },
  {
   "cell_type": "markdown",
   "metadata": {},
   "source": [
    "## セットアップ"
   ]
  },
  {
   "cell_type": "code",
   "execution_count": 1,
   "metadata": {},
   "outputs": [],
   "source": [
    "# Pythonが実行時のバージョンを満たしているか確認する\n",
    "import sys\n",
    "assert sys.version_info >= (3, 9, 7)\n",
    "# 必要なモジュールのインポート\n",
    "from pathlib import Path\n",
    "import matplotlib.pyplot as plt\n",
    "import numpy as np\n",
    "import pandas as pd\n",
    "import sklearn\n",
    "# サードパーティ製ライブラリが実行時のバージョンを満たしているか確認する\n",
    "assert np.__version__ >= '1.20.3'\n",
    "assert pd.__version__ >= '1.3'\n",
    "assert sklearn.__version__ >= '0.24'\n",
    "# データの保存場所の定義\n",
    "DATA_ROOT_PATH = Path('data', '8')\n",
    "# matplotlib の日本語対応\n",
    "# plt.rcParams['font.family'] = \"MS Gothic\"\n"
   ]
  },
  {
   "cell_type": "markdown",
   "metadata": {},
   "source": [
    "## データの取得"
   ]
  },
  {
   "cell_type": "code",
   "execution_count": 2,
   "metadata": {},
   "outputs": [
    {
     "data": {
      "text/plain": [
       "array([[  1.71236474,  19.0100227 ],\n",
       "       [ -1.9797037 , -59.42523313],\n",
       "       [ -0.28481095,   2.62715867],\n",
       "       [ -1.90773524, -51.7854505 ],\n",
       "       [ -1.82626875, -40.10011762]])"
      ]
     },
     "execution_count": 2,
     "metadata": {},
     "output_type": "execute_result"
    }
   ],
   "source": [
    "data = pd.read_csv(DATA_ROOT_PATH / 'data_cv.csv').to_numpy()\n",
    "data[:5]\n"
   ]
  },
  {
   "cell_type": "code",
   "execution_count": 3,
   "metadata": {},
   "outputs": [
    {
     "data": {
      "text/plain": [
       "array([[ 1.71236474],\n",
       "       [-1.9797037 ],\n",
       "       [-0.28481095],\n",
       "       [-1.90773524],\n",
       "       [-1.82626875]])"
      ]
     },
     "execution_count": 3,
     "metadata": {},
     "output_type": "execute_result"
    }
   ],
   "source": [
    "X, y = data[:, 0].reshape(-1, 1), data[:, 1]\n",
    "X[:5]\n"
   ]
  },
  {
   "cell_type": "markdown",
   "metadata": {},
   "source": [
    "## データの加工\n",
    "\n",
    "9次多項式で回帰するためにデータを加工する"
   ]
  },
  {
   "cell_type": "code",
   "execution_count": 4,
   "metadata": {},
   "outputs": [
    {
     "data": {
      "text/plain": [
       "array([[ 1.71236474e+00,  2.93219300e+00,  5.02098390e+00,\n",
       "         8.59775578e+00,  1.47224938e+01,  2.52102793e+01,\n",
       "         4.31691933e+01,  7.39214045e+01,  1.26580406e+02],\n",
       "       [-1.97970370e+00,  3.91922672e+00, -7.75890762e+00,\n",
       "         1.53603381e+01, -3.04089181e+01,  6.02006475e+01,\n",
       "        -1.19179444e+02,  2.35939986e+02, -4.67091263e+02],\n",
       "       [-2.84810947e-01,  8.11172758e-02, -2.31030882e-02,\n",
       "         6.58001243e-03, -1.87405957e-03,  5.33752682e-04,\n",
       "        -1.52018607e-04,  4.32965635e-05, -1.23313353e-05],\n",
       "       [-1.90773524e+00,  3.63945374e+00, -6.94311415e+00,\n",
       "         1.32456235e+01, -2.52691428e+01,  4.82068341e+01,\n",
       "        -9.19658762e+01,  1.75446543e+02, -3.34705552e+02],\n",
       "       [-1.82626875e+00,  3.33525756e+00, -6.09107665e+00,\n",
       "         1.11239430e+01, -2.03153094e+01,  3.71012148e+01,\n",
       "        -6.77567893e+01,  1.23742107e+02, -2.25986343e+02]])"
      ]
     },
     "execution_count": 4,
     "metadata": {},
     "output_type": "execute_result"
    }
   ],
   "source": [
    "from sklearn.pipeline import Pipeline\n",
    "from sklearn.preprocessing import PolynomialFeatures\n",
    "\n",
    "pipeline = Pipeline([\n",
    "    ('poly', PolynomialFeatures(degree=9, include_bias=False)),\n",
    "])\n",
    "\n",
    "X_poly = pipeline.fit_transform(X)\n",
    "X_poly[:5]\n"
   ]
  },
  {
   "cell_type": "markdown",
   "metadata": {},
   "source": [
    "## Ridge モデルの訓練とk-分割交差検証"
   ]
  },
  {
   "cell_type": "code",
   "execution_count": 5,
   "metadata": {},
   "outputs": [],
   "source": [
    "from sklearn.linear_model import Ridge\n",
    "from sklearn.model_selection import cross_validate\n",
    "\n",
    "def ridge_reg_cross_val(X, y, alpha_values):\n",
    "    \"\"\"Ridgeモデルの訓練とk-分割交差検証\n",
    "\n",
    "    Args:\n",
    "        X: データ\n",
    "        y: ラベル\n",
    "        alpha_values: 検証するα値の配列\n",
    "\n",
    "    Returns:\n",
    "        tuple: 各α値に対する訓練スコアとテストスコアが組になったタプル\n",
    "    \"\"\"\n",
    "    train_scores = np.zeros(len(alpha_values))\n",
    "    test_scores = np.zeros(len(alpha_values))\n",
    "\n",
    "    for i, alpha in enumerate(alpha_values):\n",
    "        ridge = Ridge(alpha=alpha)\n",
    "        cv_results = cross_validate(ridge, X, y, cv=5, return_train_score=True)\n",
    "        train_scores[i] = np.mean(cv_results['train_score'])\n",
    "        test_scores[i] = np.mean(cv_results['test_score'])\n",
    "\n",
    "    return train_scores, test_scores\n"
   ]
  },
  {
   "cell_type": "code",
   "execution_count": 6,
   "metadata": {},
   "outputs": [
    {
     "data": {
      "text/plain": [
       "array([0.78431854, 0.78400582, 0.78254877, 0.78046121, 0.76664655])"
      ]
     },
     "execution_count": 6,
     "metadata": {},
     "output_type": "execute_result"
    }
   ],
   "source": [
    "alpha_values = [10 ** a for a in range(-2, 3)]\n",
    "train_scores, test_scores = ridge_reg_cross_val(X_poly, y, alpha_values)\n",
    "train_scores\n"
   ]
  },
  {
   "cell_type": "code",
   "execution_count": 7,
   "metadata": {},
   "outputs": [],
   "source": [
    "def plot_cross_val(ax, train_scores, test_scores, alpha_values):\n",
    "    ax.plot(alpha_values, train_scores, label='Train')\n",
    "    ax.plot(alpha_values, test_scores, label='Test')\n",
    "    ax.set_xlabel(r\"$\\alpha$\")\n",
    "    ax.set_xscale('log')\n",
    "    ax.set_ylabel('Score')\n",
    "    ax.grid()\n",
    "    ax.legend()\n",
    "\n",
    "    return ax\n"
   ]
  },
  {
   "cell_type": "markdown",
   "metadata": {},
   "source": [
    "## 評価の推移の描画"
   ]
  },
  {
   "cell_type": "code",
   "execution_count": 8,
   "metadata": {},
   "outputs": [
    {
     "data": {
      "image/png": "[encoded data removed]",
      "text/plain": [
       "<Figure size 640x480 with 1 Axes>"
      ]
     },
     "metadata": {},
     "output_type": "display_data"
    }
   ],
   "source": [
    "max_test_score = test_scores.max()\n",
    "\n",
    "fig, ax = plt.subplots()\n",
    "ax = plot_cross_val(ax, train_scores, test_scores, alpha_values)\n",
    "ax.axhline(max_test_score, c='k', linestyle=':')\n",
    "ax.text(10, max_test_score, str(round(max_test_score, 3)))\n",
    "plt.show()\n"
   ]
  }
 ],
 "metadata": {
  "kernelspec": {
   "display_name": "base",
   "language": "python",
   "name": "python3"
  },
  "language_info": {
   "codemirror_mode": {
    "name": "ipython",
    "version": 3
   },
   "file_extension": ".py",
   "mimetype": "text/x-python",
   "name": "python",
   "nbconvert_exporter": "python",
   "pygments_lexer": "ipython3",
   "version": "3.11.4"
  }
 },
 "nbformat": 4,
 "nbformat_minor": 2
}
