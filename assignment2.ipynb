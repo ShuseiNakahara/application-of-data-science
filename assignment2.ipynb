{
 "cells": [
  {
   "cell_type": "markdown",
   "metadata": {},
   "source": [
    "# 演習課題2回目\n",
    "\n",
    "10月27日(金)"
   ]
  },
  {
   "cell_type": "markdown",
   "metadata": {},
   "source": [
    "## セットアップ"
   ]
  },
  {
   "cell_type": "code",
   "execution_count": 72,
   "metadata": {},
   "outputs": [],
   "source": [
    "# Pythonが実行時のバージョンを満たしているか確認する\n",
    "import sys\n",
    "assert sys.version_info >= (3, 9, 7)\n",
    "\n",
    "# 必要なモジュールのインポート\n",
    "from pathlib import Path\n",
    "import matplotlib.pyplot as plt\n",
    "import numpy as np\n",
    "import pandas as pd\n",
    "import sklearn\n",
    "\n",
    "# サードパーティ製ライブラリが実行時のバージョンを満たしているか確認する\n",
    "assert pd.__version__ >= '1.3'\n",
    "assert sklearn.__version__ >= '0.24'\n",
    "\n",
    "# データの保存場所の定義\n",
    "DATA_ROOT_PATH = Path('data', '4')\n",
    "\n",
    "# グラフのスタイル\n",
    "plt.style.use('seaborn')"
   ]
  },
  {
   "cell_type": "markdown",
   "metadata": {},
   "source": [
    "## データの取得"
   ]
  },
  {
   "cell_type": "code",
   "execution_count": 73,
   "metadata": {},
   "outputs": [],
   "source": [
    "from sklearn.datasets import load_wine\n",
    "\n",
    "# CSVファイルパスの定義\n",
    "WINE_PATH = DATA_ROOT_PATH / 'wine.csv'\n",
    "\n",
    "if WINE_PATH.exists():\n",
    "    wine = pd.read_csv(WINE_PATH)\n",
    "    X = wine.iloc[:, :-1]\n",
    "    y = wine.iloc[:, -1]\n",
    "else:\n",
    "    # 実行時にファイルが存在しなかった場合，scikit-learnの関数から読み込む\n",
    "    wine = load_wine(as_frame=True)\n",
    "    X = wine.data\n",
    "    y = wine.target"
   ]
  },
  {
   "cell_type": "markdown",
   "metadata": {},
   "source": [
    "## ヒストグラムの表示"
   ]
  },
  {
   "cell_type": "code",
   "execution_count": 74,
   "metadata": {},
   "outputs": [
    {
     "data": {
      "image/png": "[encoded data removed]",
      "text/plain": [
       "<Figure size 720x480 with 4 Axes>"
      ]
     },
     "metadata": {},
     "output_type": "display_data"
    }
   ],
   "source": [
    "# データの定義\n",
    "phenols_all = X['total_phenols']\n",
    "phenols_0 = phenols_all[y == 0]\n",
    "phenols_1 = phenols_all[y == 1]\n",
    "phenols_2 = phenols_all[y == 2]\n",
    "\n",
    "bins_common = np.arange(\n",
    "    phenols_all.min(),\n",
    "    phenols_all.max(),\n",
    "    (phenols_all.max() - phenols_all.min()) / 50.0\n",
    ")\n",
    "\n",
    "fig, axs = plt.subplots(1, 4, figsize=(9, 6))\n",
    "\n",
    "# 全体のヒストグラム\n",
    "axs[0].hist(phenols_all, bins=bins_common, orientation='horizontal', color='r')\n",
    "axs[0].set_title('All')\n",
    "xlim_min, xlim_max = axs[0].get_xlim()\n",
    "ylim_min, ylim_max = axs[0].get_ylim()\n",
    "\n",
    "# 各クラスのヒストグラムを作成するための関数を作成\n",
    "def plot_hist_wine(ax, data: pd.Series, title: str):\n",
    "    ax.hist(data, bins=bins_common, orientation='horizontal')\n",
    "    ax.set_title(title)\n",
    "    ax.set_xlim(xlim_min, xlim_max)\n",
    "    ax.set_ylim(ylim_min, ylim_max)\n",
    "\n",
    "# 各クラスのヒストグラムをプロット\n",
    "plot_hist_wine(axs[1], phenols_0, 'Class 0')\n",
    "plot_hist_wine(axs[2], phenols_1, 'Class 1')\n",
    "plot_hist_wine(axs[3], phenols_2, 'Class 2')\n",
    "\n",
    "plt.show()"
   ]
  }
 ],
 "metadata": {
  "kernelspec": {
   "display_name": "base",
   "language": "python",
   "name": "python3"
  },
  "language_info": {
   "codemirror_mode": {
    "name": "ipython",
    "version": 3
   },
   "file_extension": ".py",
   "mimetype": "text/x-python",
   "name": "python",
   "nbconvert_exporter": "python",
   "pygments_lexer": "ipython3",
   "version": "3.9.7"
  }
 },
 "nbformat": 4,
 "nbformat_minor": 2
}
